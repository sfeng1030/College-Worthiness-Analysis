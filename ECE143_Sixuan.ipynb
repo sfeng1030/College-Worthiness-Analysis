{
 "cells": [
  {
   "cell_type": "code",
   "execution_count": 33,
   "metadata": {},
   "outputs": [
    {
     "data": {
      "text/html": [
       "<div>\n",
       "<style scoped>\n",
       "    .dataframe tbody tr th:only-of-type {\n",
       "        vertical-align: middle;\n",
       "    }\n",
       "\n",
       "    .dataframe tbody tr th {\n",
       "        vertical-align: top;\n",
       "    }\n",
       "\n",
       "    .dataframe thead th {\n",
       "        text-align: right;\n",
       "    }\n",
       "</style>\n",
       "<table border=\"1\" class=\"dataframe\">\n",
       "  <thead>\n",
       "    <tr style=\"text-align: right;\">\n",
       "      <th></th>\n",
       "      <th>rankingNoteText</th>\n",
       "      <th>nonResponderText</th>\n",
       "      <th>nonResponder</th>\n",
       "      <th>act-avg</th>\n",
       "      <th>primaryPhoto</th>\n",
       "      <th>primaryPhotoThumb</th>\n",
       "      <th>sat-avg</th>\n",
       "      <th>enrollment</th>\n",
       "      <th>city</th>\n",
       "      <th>sortName</th>\n",
       "      <th>...</th>\n",
       "      <th>displayName</th>\n",
       "      <th>schoolType</th>\n",
       "      <th>region</th>\n",
       "      <th>aliasNames</th>\n",
       "      <th>rankingType</th>\n",
       "      <th>overallRank</th>\n",
       "      <th>institutionalControl</th>\n",
       "      <th>rankingMaxPossibleScore</th>\n",
       "      <th>rankingRankStatus</th>\n",
       "      <th>primaryKey</th>\n",
       "    </tr>\n",
       "  </thead>\n",
       "  <tbody>\n",
       "    <tr>\n",
       "      <th>0</th>\n",
       "      <td>NaN</td>\n",
       "      <td>NaN</td>\n",
       "      <td>False</td>\n",
       "      <td>32.0</td>\n",
       "      <td>https://www.usnews.com/img/college-photo_31291...</td>\n",
       "      <td>https://www.usnews.com/img/college-photo_31291...</td>\n",
       "      <td>1400.0</td>\n",
       "      <td>5400.0</td>\n",
       "      <td>Princeton</td>\n",
       "      <td>princetonuniversity</td>\n",
       "      <td>...</td>\n",
       "      <td>Princeton University</td>\n",
       "      <td>national-universities</td>\n",
       "      <td>NaN</td>\n",
       "      <td>NaN</td>\n",
       "      <td>national-universities</td>\n",
       "      <td>1</td>\n",
       "      <td>private</td>\n",
       "      <td>NaN</td>\n",
       "      <td>ranked</td>\n",
       "      <td>2627</td>\n",
       "    </tr>\n",
       "    <tr>\n",
       "      <th>1</th>\n",
       "      <td>NaN</td>\n",
       "      <td>NaN</td>\n",
       "      <td>False</td>\n",
       "      <td>32.0</td>\n",
       "      <td>https://www.usnews.com/img/college-photo_8866.jpg</td>\n",
       "      <td>https://www.usnews.com/img/college-photo_8866_...</td>\n",
       "      <td>1430.0</td>\n",
       "      <td>6710.0</td>\n",
       "      <td>Cambridge</td>\n",
       "      <td>harvarduniversity</td>\n",
       "      <td>...</td>\n",
       "      <td>Harvard University</td>\n",
       "      <td>national-universities</td>\n",
       "      <td>NaN</td>\n",
       "      <td>NaN</td>\n",
       "      <td>national-universities</td>\n",
       "      <td>2</td>\n",
       "      <td>private</td>\n",
       "      <td>NaN</td>\n",
       "      <td>ranked</td>\n",
       "      <td>2155</td>\n",
       "    </tr>\n",
       "    <tr>\n",
       "      <th>2</th>\n",
       "      <td>NaN</td>\n",
       "      <td>NaN</td>\n",
       "      <td>False</td>\n",
       "      <td>32.0</td>\n",
       "      <td>https://www.usnews.com/dims4/USNEWS/5b128f0/17...</td>\n",
       "      <td>https://www.usnews.com/dims4/USNEWS/196469f/17...</td>\n",
       "      <td>1450.0</td>\n",
       "      <td>5941.0</td>\n",
       "      <td>Chicago</td>\n",
       "      <td>universityofchicago</td>\n",
       "      <td>...</td>\n",
       "      <td>University of Chicago</td>\n",
       "      <td>national-universities</td>\n",
       "      <td>NaN</td>\n",
       "      <td>UChicago</td>\n",
       "      <td>national-universities</td>\n",
       "      <td>3</td>\n",
       "      <td>private</td>\n",
       "      <td>NaN</td>\n",
       "      <td>ranked</td>\n",
       "      <td>1774</td>\n",
       "    </tr>\n",
       "    <tr>\n",
       "      <th>3</th>\n",
       "      <td>NaN</td>\n",
       "      <td>NaN</td>\n",
       "      <td>False</td>\n",
       "      <td>32.0</td>\n",
       "      <td>https://www.usnews.com/dims4/USNEWS/60348dd/17...</td>\n",
       "      <td>https://www.usnews.com/dims4/USNEWS/1ca230f/17...</td>\n",
       "      <td>1420.0</td>\n",
       "      <td>5472.0</td>\n",
       "      <td>New Haven</td>\n",
       "      <td>yaleuniversity</td>\n",
       "      <td>...</td>\n",
       "      <td>Yale University</td>\n",
       "      <td>national-universities</td>\n",
       "      <td>NaN</td>\n",
       "      <td>NaN</td>\n",
       "      <td>national-universities</td>\n",
       "      <td>3</td>\n",
       "      <td>private</td>\n",
       "      <td>NaN</td>\n",
       "      <td>ranked</td>\n",
       "      <td>1426</td>\n",
       "    </tr>\n",
       "    <tr>\n",
       "      <th>4</th>\n",
       "      <td>NaN</td>\n",
       "      <td>NaN</td>\n",
       "      <td>False</td>\n",
       "      <td>32.0</td>\n",
       "      <td>https://www.usnews.com/img/college-photo_19002...</td>\n",
       "      <td>https://www.usnews.com/img/college-photo_19002...</td>\n",
       "      <td>1430.0</td>\n",
       "      <td>6113.0</td>\n",
       "      <td>New York</td>\n",
       "      <td>columbiauniversity</td>\n",
       "      <td>...</td>\n",
       "      <td>Columbia University</td>\n",
       "      <td>national-universities</td>\n",
       "      <td>NaN</td>\n",
       "      <td>NaN</td>\n",
       "      <td>national-universities</td>\n",
       "      <td>5</td>\n",
       "      <td>private</td>\n",
       "      <td>NaN</td>\n",
       "      <td>ranked</td>\n",
       "      <td>2707</td>\n",
       "    </tr>\n",
       "  </tbody>\n",
       "</table>\n",
       "<p>5 rows × 39 columns</p>\n",
       "</div>"
      ],
      "text/plain": [
       "   rankingNoteText nonResponderText  nonResponder  act-avg  \\\n",
       "0              NaN              NaN         False     32.0   \n",
       "1              NaN              NaN         False     32.0   \n",
       "2              NaN              NaN         False     32.0   \n",
       "3              NaN              NaN         False     32.0   \n",
       "4              NaN              NaN         False     32.0   \n",
       "\n",
       "                                        primaryPhoto  \\\n",
       "0  https://www.usnews.com/img/college-photo_31291...   \n",
       "1  https://www.usnews.com/img/college-photo_8866.jpg   \n",
       "2  https://www.usnews.com/dims4/USNEWS/5b128f0/17...   \n",
       "3  https://www.usnews.com/dims4/USNEWS/60348dd/17...   \n",
       "4  https://www.usnews.com/img/college-photo_19002...   \n",
       "\n",
       "                                   primaryPhotoThumb  sat-avg  enrollment  \\\n",
       "0  https://www.usnews.com/img/college-photo_31291...   1400.0      5400.0   \n",
       "1  https://www.usnews.com/img/college-photo_8866_...   1430.0      6710.0   \n",
       "2  https://www.usnews.com/dims4/USNEWS/196469f/17...   1450.0      5941.0   \n",
       "3  https://www.usnews.com/dims4/USNEWS/1ca230f/17...   1420.0      5472.0   \n",
       "4  https://www.usnews.com/img/college-photo_19002...   1430.0      6113.0   \n",
       "\n",
       "        city             sortName    ...                displayName  \\\n",
       "0  Princeton  princetonuniversity    ...       Princeton University   \n",
       "1  Cambridge    harvarduniversity    ...         Harvard University   \n",
       "2    Chicago  universityofchicago    ...      University of Chicago   \n",
       "3  New Haven       yaleuniversity    ...            Yale University   \n",
       "4   New York   columbiauniversity    ...        Columbia University   \n",
       "\n",
       "              schoolType  region  aliasNames            rankingType  \\\n",
       "0  national-universities     NaN         NaN  national-universities   \n",
       "1  national-universities     NaN         NaN  national-universities   \n",
       "2  national-universities     NaN    UChicago  national-universities   \n",
       "3  national-universities     NaN         NaN  national-universities   \n",
       "4  national-universities     NaN         NaN  national-universities   \n",
       "\n",
       "   overallRank institutionalControl  rankingMaxPossibleScore  \\\n",
       "0            1              private                      NaN   \n",
       "1            2              private                      NaN   \n",
       "2            3              private                      NaN   \n",
       "3            3              private                      NaN   \n",
       "4            5              private                      NaN   \n",
       "\n",
       "   rankingRankStatus primaryKey  \n",
       "0             ranked       2627  \n",
       "1             ranked       2155  \n",
       "2             ranked       1774  \n",
       "3             ranked       1426  \n",
       "4             ranked       2707  \n",
       "\n",
       "[5 rows x 39 columns]"
      ]
     },
     "execution_count": 33,
     "metadata": {},
     "output_type": "execute_result"
    }
   ],
   "source": [
    "import numpy as np # linear algebra\n",
    "import pandas as pd # data processing, CSV file I/O (e.g. pd.read_csv)\n",
    "import matplotlib.pyplot as plt\n",
    "import seaborn as sns  # visualization tool\n",
    "from subprocess import check_output\n",
    "#print(check_output([\"ls\", \"../input\"]).decode(\"utf8\"))\n",
    "data = pd.read_csv('school.csv')\n",
    "#data.info()\n",
    "data.head()"
   ]
  },
  {
   "cell_type": "code",
   "execution_count": 25,
   "metadata": {},
   "outputs": [
    {
     "data": {
      "text/html": [
       "<div>\n",
       "<style scoped>\n",
       "    .dataframe tbody tr th:only-of-type {\n",
       "        vertical-align: middle;\n",
       "    }\n",
       "\n",
       "    .dataframe tbody tr th {\n",
       "        vertical-align: top;\n",
       "    }\n",
       "\n",
       "    .dataframe thead th {\n",
       "        text-align: right;\n",
       "    }\n",
       "</style>\n",
       "<table border=\"1\" class=\"dataframe\">\n",
       "  <thead>\n",
       "    <tr style=\"text-align: right;\">\n",
       "      <th></th>\n",
       "      <th>rankingNoteText</th>\n",
       "      <th>nonResponderText</th>\n",
       "      <th>nonResponder</th>\n",
       "      <th>act-avg</th>\n",
       "      <th>primaryPhoto</th>\n",
       "      <th>primaryPhotoThumb</th>\n",
       "      <th>sat-avg</th>\n",
       "      <th>enrollment</th>\n",
       "      <th>city</th>\n",
       "      <th>sortName</th>\n",
       "      <th>...</th>\n",
       "      <th>displayName</th>\n",
       "      <th>schoolType</th>\n",
       "      <th>region</th>\n",
       "      <th>aliasNames</th>\n",
       "      <th>rankingType</th>\n",
       "      <th>overallRank</th>\n",
       "      <th>institutionalControl</th>\n",
       "      <th>rankingMaxPossibleScore</th>\n",
       "      <th>rankingRankStatus</th>\n",
       "      <th>primaryKey</th>\n",
       "    </tr>\n",
       "  </thead>\n",
       "  <tbody>\n",
       "    <tr>\n",
       "      <th>306</th>\n",
       "      <td>NaN</td>\n",
       "      <td>School refused to fill out U.S. News statistic...</td>\n",
       "      <td>True</td>\n",
       "      <td>NaN</td>\n",
       "      <td>NaN</td>\n",
       "      <td>NaN</td>\n",
       "      <td>NaN</td>\n",
       "      <td>NaN</td>\n",
       "      <td>Cypress</td>\n",
       "      <td>tridentuniversityinternational</td>\n",
       "      <td>...</td>\n",
       "      <td>Trident University International</td>\n",
       "      <td>national-universities</td>\n",
       "      <td>NaN</td>\n",
       "      <td>NaN</td>\n",
       "      <td>national-universities</td>\n",
       "      <td>-2</td>\n",
       "      <td>proprietary</td>\n",
       "      <td>NaN</td>\n",
       "      <td>ur</td>\n",
       "      <td>41279</td>\n",
       "    </tr>\n",
       "    <tr>\n",
       "      <th>307</th>\n",
       "      <td>NaN</td>\n",
       "      <td>School refused to fill out U.S. News statistic...</td>\n",
       "      <td>True</td>\n",
       "      <td>NaN</td>\n",
       "      <td>https://www.usnews.com/img/college-photo_14624...</td>\n",
       "      <td>https://www.usnews.com/img/college-photo_14624...</td>\n",
       "      <td>NaN</td>\n",
       "      <td>NaN</td>\n",
       "      <td>Cincinnati</td>\n",
       "      <td>unioninstituteanduniversity</td>\n",
       "      <td>...</td>\n",
       "      <td>Union Institute and University</td>\n",
       "      <td>national-universities</td>\n",
       "      <td>NaN</td>\n",
       "      <td>NaN</td>\n",
       "      <td>national-universities</td>\n",
       "      <td>-2</td>\n",
       "      <td>private</td>\n",
       "      <td>NaN</td>\n",
       "      <td>ur</td>\n",
       "      <td>10923</td>\n",
       "    </tr>\n",
       "    <tr>\n",
       "      <th>308</th>\n",
       "      <td>NaN</td>\n",
       "      <td>School refused to fill out U.S. News statistic...</td>\n",
       "      <td>True</td>\n",
       "      <td>NaN</td>\n",
       "      <td>NaN</td>\n",
       "      <td>NaN</td>\n",
       "      <td>NaN</td>\n",
       "      <td>NaN</td>\n",
       "      <td>Phoenix</td>\n",
       "      <td>universityofphoenix</td>\n",
       "      <td>...</td>\n",
       "      <td>University of Phoenix</td>\n",
       "      <td>national-universities</td>\n",
       "      <td>NaN</td>\n",
       "      <td>NaN</td>\n",
       "      <td>national-universities</td>\n",
       "      <td>-2</td>\n",
       "      <td>proprietary</td>\n",
       "      <td>NaN</td>\n",
       "      <td>ur</td>\n",
       "      <td>209885</td>\n",
       "    </tr>\n",
       "    <tr>\n",
       "      <th>309</th>\n",
       "      <td>NaN</td>\n",
       "      <td>School refused to fill out U.S. News statistic...</td>\n",
       "      <td>True</td>\n",
       "      <td>NaN</td>\n",
       "      <td>NaN</td>\n",
       "      <td>NaN</td>\n",
       "      <td>NaN</td>\n",
       "      <td>NaN</td>\n",
       "      <td>Minneapolis</td>\n",
       "      <td>waldenuniversity</td>\n",
       "      <td>...</td>\n",
       "      <td>Walden University</td>\n",
       "      <td>national-universities</td>\n",
       "      <td>NaN</td>\n",
       "      <td>NaN</td>\n",
       "      <td>national-universities</td>\n",
       "      <td>-2</td>\n",
       "      <td>proprietary</td>\n",
       "      <td>NaN</td>\n",
       "      <td>ur</td>\n",
       "      <td>25042</td>\n",
       "    </tr>\n",
       "    <tr>\n",
       "      <th>310</th>\n",
       "      <td>NaN</td>\n",
       "      <td>NaN</td>\n",
       "      <td>False</td>\n",
       "      <td>NaN</td>\n",
       "      <td>NaN</td>\n",
       "      <td>NaN</td>\n",
       "      <td>NaN</td>\n",
       "      <td>8873.0</td>\n",
       "      <td>New Castle</td>\n",
       "      <td>wilmingtonuniversity</td>\n",
       "      <td>...</td>\n",
       "      <td>Wilmington University</td>\n",
       "      <td>national-universities</td>\n",
       "      <td>NaN</td>\n",
       "      <td>NaN</td>\n",
       "      <td>national-universities</td>\n",
       "      <td>-2</td>\n",
       "      <td>private</td>\n",
       "      <td>NaN</td>\n",
       "      <td>ur</td>\n",
       "      <td>7948</td>\n",
       "    </tr>\n",
       "  </tbody>\n",
       "</table>\n",
       "<p>5 rows × 39 columns</p>\n",
       "</div>"
      ],
      "text/plain": [
       "     rankingNoteText                                   nonResponderText  \\\n",
       "306              NaN  School refused to fill out U.S. News statistic...   \n",
       "307              NaN  School refused to fill out U.S. News statistic...   \n",
       "308              NaN  School refused to fill out U.S. News statistic...   \n",
       "309              NaN  School refused to fill out U.S. News statistic...   \n",
       "310              NaN                                                NaN   \n",
       "\n",
       "     nonResponder  act-avg                                       primaryPhoto  \\\n",
       "306          True      NaN                                                NaN   \n",
       "307          True      NaN  https://www.usnews.com/img/college-photo_14624...   \n",
       "308          True      NaN                                                NaN   \n",
       "309          True      NaN                                                NaN   \n",
       "310         False      NaN                                                NaN   \n",
       "\n",
       "                                     primaryPhotoThumb  sat-avg  enrollment  \\\n",
       "306                                                NaN      NaN         NaN   \n",
       "307  https://www.usnews.com/img/college-photo_14624...      NaN         NaN   \n",
       "308                                                NaN      NaN         NaN   \n",
       "309                                                NaN      NaN         NaN   \n",
       "310                                                NaN      NaN      8873.0   \n",
       "\n",
       "            city                        sortName    ...      \\\n",
       "306      Cypress  tridentuniversityinternational    ...       \n",
       "307   Cincinnati     unioninstituteanduniversity    ...       \n",
       "308      Phoenix             universityofphoenix    ...       \n",
       "309  Minneapolis                waldenuniversity    ...       \n",
       "310   New Castle            wilmingtonuniversity    ...       \n",
       "\n",
       "                          displayName             schoolType  region  \\\n",
       "306  Trident University International  national-universities     NaN   \n",
       "307    Union Institute and University  national-universities     NaN   \n",
       "308             University of Phoenix  national-universities     NaN   \n",
       "309                 Walden University  national-universities     NaN   \n",
       "310             Wilmington University  national-universities     NaN   \n",
       "\n",
       "     aliasNames            rankingType  overallRank institutionalControl  \\\n",
       "306         NaN  national-universities           -2          proprietary   \n",
       "307         NaN  national-universities           -2              private   \n",
       "308         NaN  national-universities           -2          proprietary   \n",
       "309         NaN  national-universities           -2          proprietary   \n",
       "310         NaN  national-universities           -2              private   \n",
       "\n",
       "     rankingMaxPossibleScore  rankingRankStatus primaryKey  \n",
       "306                      NaN                 ur      41279  \n",
       "307                      NaN                 ur      10923  \n",
       "308                      NaN                 ur     209885  \n",
       "309                      NaN                 ur      25042  \n",
       "310                      NaN                 ur       7948  \n",
       "\n",
       "[5 rows x 39 columns]"
      ]
     },
     "execution_count": 25,
     "metadata": {},
     "output_type": "execute_result"
    }
   ],
   "source": [
    "data.tail()"
   ]
  },
  {
   "cell_type": "code",
   "execution_count": 26,
   "metadata": {},
   "outputs": [
    {
     "data": {
      "text/plain": [
       "Index([u'rankingNoteText', u'nonResponderText', u'nonResponder', u'act-avg',\n",
       "       u'primaryPhoto', u'primaryPhotoThumb', u'sat-avg', u'enrollment',\n",
       "       u'city', u'sortName', u'zip', u'rankingNoteCharacter',\n",
       "       u'acceptance-rate', u'rankingDisplayScore', u'percent-receiving-aid',\n",
       "       u'cost-after-aid', u'state', u'rankingSortRank', u'hs-gpa-avg',\n",
       "       u'urlName', u'rankingDisplayName', u'rankingDisplayRank', u'ranking',\n",
       "       u'xwalkId', u'rankingIsTied', u'isPublic', u'businessRepScore',\n",
       "       u'tuition', u'engineeringRepScore', u'displayName', u'schoolType',\n",
       "       u'region', u'aliasNames', u'rankingType', u'overallRank',\n",
       "       u'institutionalControl', u'rankingMaxPossibleScore',\n",
       "       u'rankingRankStatus', u'primaryKey'],\n",
       "      dtype='object')"
      ]
     },
     "execution_count": 26,
     "metadata": {},
     "output_type": "execute_result"
    }
   ],
   "source": [
    "data.columns"
   ]
  },
  {
   "cell_type": "code",
   "execution_count": 29,
   "metadata": {},
   "outputs": [
    {
     "data": {
      "text/plain": [
       "(311, 39)"
      ]
     },
     "execution_count": 29,
     "metadata": {},
     "output_type": "execute_result"
    }
   ],
   "source": [
    "data.shape"
   ]
  },
  {
   "cell_type": "code",
   "execution_count": 36,
   "metadata": {},
   "outputs": [
    {
     "name": "stdout",
     "output_type": "stream",
     "text": [
      "230\n",
      "230\n"
     ]
    }
   ],
   "source": [
    "data_rank = data[data['overallRank'] > 0]\n",
    "print (len(data_rank))\n",
    "data_rank_enrollment = data_rank[data_rank['enrollment'] >= 0]\n",
    "print (len(data_rank_enrollment))"
   ]
  },
  {
   "cell_type": "code",
   "execution_count": 40,
   "metadata": {},
   "outputs": [
    {
     "data": {
      "text/plain": [
       "Text(0.5,1,'Enrollment Given Rank')"
      ]
     },
     "execution_count": 40,
     "metadata": {},
     "output_type": "execute_result"
    },
    {
     "data": {
      "image/png": "[encoded data removed]",
      "text/plain": [
       "<Figure size 1440x720 with 1 Axes>"
      ]
     },
     "metadata": {
      "needs_background": "light"
     },
     "output_type": "display_data"
    }
   ],
   "source": [
    "plt.figure(figsize=(20,10))\n",
    "sns.barplot(x=data_rank_enrollment['overallRank'], y=data_rank_enrollment['enrollment'])\n",
    "plt.title('Enrollment Given Rank')"
   ]
  },
  {
   "cell_type": "markdown",
   "metadata": {},
   "source": [
    "# Tuition Given Rank"
   ]
  },
  {
   "cell_type": "code",
   "execution_count": 41,
   "metadata": {},
   "outputs": [
    {
     "name": "stdout",
     "output_type": "stream",
     "text": [
      "230\n"
     ]
    }
   ],
   "source": [
    "data_rank_tuition = data_rank[data_rank['tuition'] >= 0]\n",
    "print (len(data_rank_tuition))"
   ]
  },
  {
   "cell_type": "code",
   "execution_count": 42,
   "metadata": {},
   "outputs": [
    {
     "data": {
      "text/plain": [
       "Text(0.5,1,'Tuition Given Rank')"
      ]
     },
     "execution_count": 42,
     "metadata": {},
     "output_type": "execute_result"
    },
    {
     "data": {
      "image/png": "[encoded data removed]",
      "text/plain": [
       "<Figure size 1440x720 with 1 Axes>"
      ]
     },
     "metadata": {
      "needs_background": "light"
     },
     "output_type": "display_data"
    }
   ],
   "source": [
    "plt.figure(figsize=(20,10))\n",
    "sns.barplot(x=data_rank_enrollment['overallRank'], y=data_rank_enrollment['tuition'])\n",
    "plt.title('Tuition Given Rank')"
   ]
  },
  {
   "cell_type": "markdown",
   "metadata": {},
   "source": [
    "# Cost-After-Aid Given Rank"
   ]
  },
  {
   "cell_type": "code",
   "execution_count": 44,
   "metadata": {},
   "outputs": [
    {
     "name": "stdout",
     "output_type": "stream",
     "text": [
      "143\n"
     ]
    }
   ],
   "source": [
    "data_rank_cost = data_rank[data_rank['cost-after-aid'] >= 0]\n",
    "print (len(data_rank_cost))"
   ]
  },
  {
   "cell_type": "code",
   "execution_count": 45,
   "metadata": {},
   "outputs": [
    {
     "data": {
      "text/plain": [
       "Text(0.5,1,'Cost Given Rank')"
      ]
     },
     "execution_count": 45,
     "metadata": {},
     "output_type": "execute_result"
    },
    {
     "data": {
      "image/png": "[encoded data removed]",
      "text/plain": [
       "<Figure size 1440x720 with 1 Axes>"
      ]
     },
     "metadata": {
      "needs_background": "light"
     },
     "output_type": "display_data"
    }
   ],
   "source": [
    "plt.figure(figsize=(20,10))\n",
    "sns.barplot(x=data_rank_cost['overallRank'], y=data_rank_cost['cost-after-aid'])\n",
    "plt.title('Cost Given Rank')"
   ]
  },
  {
   "cell_type": "code",
   "execution_count": null,
   "metadata": {},
   "outputs": [],
   "source": []
  }
 ],
 "metadata": {
  "kernelspec": {
   "display_name": "Python 2",
   "language": "python",
   "name": "python2"
  },
  "language_info": {
   "codemirror_mode": {
    "name": "ipython",
    "version": 2
   },
   "file_extension": ".py",
   "mimetype": "text/x-python",
   "name": "python",
   "nbconvert_exporter": "python",
   "pygments_lexer": "ipython2",
   "version": "2.7.15"
  }
 },
 "nbformat": 4,
 "nbformat_minor": 2
}
